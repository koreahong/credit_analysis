{
  "nbformat": 4,
  "nbformat_minor": 0,
  "metadata": {
    "colab": {
      "name": "catboost.ipynb",
      "provenance": [],
      "authorship_tag": "ABX9TyMTYm5s82ytRmHk6YLDu4Q2",
      "include_colab_link": true
    },
    "kernelspec": {
      "name": "python3",
      "display_name": "Python 3"
    },
    "language_info": {
      "name": "python"
    }
  },
  "cells": [
    {
      "cell_type": "markdown",
      "metadata": {
        "id": "view-in-github",
        "colab_type": "text"
      },
      "source": [
        "<a href=\"https://colab.research.google.com/github/koreahong/credit_analysis/blob/main/catboost.ipynb\" target=\"_parent\"><img src=\"https://colab.research.google.com/assets/colab-badge.svg\" alt=\"Open In Colab\"/></a>"
      ]
    },
    {
      "cell_type": "code",
      "metadata": {
        "colab": {
          "base_uri": "https://localhost:8080/"
        },
        "id": "mpdAbzBEPCOD",
        "outputId": "5c1e082c-36bb-45ce-e7b9-4b778c957cb0"
      },
      "source": [
        "from google.colab import drive\n",
        "drive.mount('/content/drive/')"
      ],
      "execution_count": 1,
      "outputs": [
        {
          "output_type": "stream",
          "name": "stdout",
          "text": [
            "Mounted at /content/drive/\n"
          ]
        }
      ]
    },
    {
      "cell_type": "code",
      "metadata": {
        "id": "Nole8kpBSt4d"
      },
      "source": [
        "!pip install category_encoders"
      ],
      "execution_count": null,
      "outputs": []
    },
    {
      "cell_type": "code",
      "metadata": {
        "id": "daTNY4MUSt4d"
      },
      "source": [
        "!pip install catboost"
      ],
      "execution_count": null,
      "outputs": []
    },
    {
      "cell_type": "code",
      "metadata": {
        "id": "AstqxITQPvNg"
      },
      "source": [
        "import pandas as pd\n",
        "import numpy as np\n",
        "import matplotlib.pyplot as plt\n",
        "import seaborn as sns\n",
        "from tqdm import tqdm_notebook\n",
        "import math\n",
        "import warnings\n",
        "warnings.filterwarnings(\"ignore\")\n",
        "#폰트설정\n",
        "plt.rc('font', family='NanumBarunGothic') \n",
        "\n",
        "from sklearn.metrics import log_loss\n",
        "from sklearn.preprocessing import StandardScaler\n",
        "from category_encoders.ordinal import OrdinalEncoder\n",
        "from sklearn.model_selection import StratifiedKFold\n",
        "\n",
        "from sklearn.cluster import KMeans\n",
        "from catboost import CatBoostClassifier, Pool"
      ],
      "execution_count": 82,
      "outputs": []
    },
    {
      "cell_type": "code",
      "metadata": {
        "id": "Jxvao_tdrNjx"
      },
      "source": [
        "train = pd.read_csv(\"/content/drive/MyDrive/머신러닝_실전예제/Dacon_신용카드연체판별/data/open/train.csv\", index_col=0)"
      ],
      "execution_count": 476,
      "outputs": []
    },
    {
      "cell_type": "code",
      "metadata": {
        "id": "dOKbEH25-Yrx"
      },
      "source": [
        "test = pd.read_csv(\"/content/drive/MyDrive/머신러닝_실전예제/Dacon_신용카드연체판별/data/open/test.csv\", index_col=0)"
      ],
      "execution_count": 477,
      "outputs": []
    },
    {
      "cell_type": "code",
      "metadata": {
        "id": "ZLGHh7TOGPG4"
      },
      "source": [
        "sub = pd.read_csv(\"/content/drive/MyDrive/머신러닝_실전예제/Dacon_신용카드연체판별/data/open/sample_submission.csv\", index_col=0)"
      ],
      "execution_count": 478,
      "outputs": []
    },
    {
      "cell_type": "code",
      "metadata": {
        "id": "yI2HJZVBmbvA"
      },
      "source": [
        "def occyp_check(x):\n",
        "  \"\"\"\n",
        "  occpy_type이 nan인 데이터 'Retired'로 대체\n",
        "  \"\"\"\n",
        "  if type(x) == float:\n",
        "    return 'Unknown'\n",
        "  else:\n",
        "    return x\n",
        "\n",
        "def make_zero(x):\n",
        "  \"\"\"\n",
        "  DAY_EMPLOYED가 1이상이 로우 0으로로 대체\n",
        "  \"\"\"\n",
        "  if x >= 0:\n",
        "    return 0\n",
        "  return x\n",
        "\n",
        "def scale_set(df, colname, num):\n",
        "  \"\"\"\n",
        "  구간 생성\n",
        "  \"\"\"\n",
        "  df[colname] = abs(df[colname]) // num"
      ],
      "execution_count": 479,
      "outputs": []
    },
    {
      "cell_type": "code",
      "metadata": {
        "id": "-Bt5m8tWmbvA"
      },
      "source": [
        "train.occyp_type = train.occyp_type.apply(occyp_check)\n",
        "test.occyp_type = test.occyp_type.apply(occyp_check) \n",
        "train.DAYS_EMPLOYED = train.DAYS_EMPLOYED.apply(make_zero)\n",
        "test.DAYS_EMPLOYED = test.DAYS_EMPLOYED.apply(make_zero) "
      ],
      "execution_count": 480,
      "outputs": []
    },
    {
      "cell_type": "code",
      "metadata": {
        "id": "LQfspw2SfrXY"
      },
      "source": [
        "scale_set(train, 'income_total', 10000)\n",
        "scale_set(train, 'DAYS_EMPLOYED', 365)\n",
        "scale_set(train, 'DAYS_BIRTH', 365 * 5)\n",
        "scale_set(train, 'begin_month', 6)"
      ],
      "execution_count": 481,
      "outputs": []
    },
    {
      "cell_type": "code",
      "metadata": {
        "id": "bYUIpLaQiXUP"
      },
      "source": [
        "scale_set(test, 'income_total', 10000)\n",
        "scale_set(test, 'DAYS_EMPLOYED', 365)\n",
        "scale_set(test, 'DAYS_BIRTH', 365 * 5)\n",
        "scale_set(test, 'begin_month', 6)"
      ],
      "execution_count": 482,
      "outputs": []
    },
    {
      "cell_type": "code",
      "metadata": {
        "id": "zwlpPwcMqEYV"
      },
      "source": [
        "del train['FLAG_MOBIL']\n",
        "del test['FLAG_MOBIL']"
      ],
      "execution_count": 483,
      "outputs": []
    },
    {
      "cell_type": "code",
      "metadata": {
        "colab": {
          "base_uri": "https://localhost:8080/",
          "height": 80
        },
        "id": "y97kuMewl_74",
        "outputId": "173c65a1-7d25-440f-ef88-7c1e9ef997ac"
      },
      "source": [
        "train.columns.to_frame().transpose()"
      ],
      "execution_count": 484,
      "outputs": [
        {
          "output_type": "execute_result",
          "data": {
            "text/html": [
              "<div>\n",
              "<style scoped>\n",
              "    .dataframe tbody tr th:only-of-type {\n",
              "        vertical-align: middle;\n",
              "    }\n",
              "\n",
              "    .dataframe tbody tr th {\n",
              "        vertical-align: top;\n",
              "    }\n",
              "\n",
              "    .dataframe thead th {\n",
              "        text-align: right;\n",
              "    }\n",
              "</style>\n",
              "<table border=\"1\" class=\"dataframe\">\n",
              "  <thead>\n",
              "    <tr style=\"text-align: right;\">\n",
              "      <th></th>\n",
              "      <th>gender</th>\n",
              "      <th>car</th>\n",
              "      <th>reality</th>\n",
              "      <th>child_num</th>\n",
              "      <th>income_total</th>\n",
              "      <th>income_type</th>\n",
              "      <th>edu_type</th>\n",
              "      <th>family_type</th>\n",
              "      <th>house_type</th>\n",
              "      <th>DAYS_BIRTH</th>\n",
              "      <th>DAYS_EMPLOYED</th>\n",
              "      <th>work_phone</th>\n",
              "      <th>phone</th>\n",
              "      <th>email</th>\n",
              "      <th>occyp_type</th>\n",
              "      <th>family_size</th>\n",
              "      <th>begin_month</th>\n",
              "      <th>credit</th>\n",
              "    </tr>\n",
              "  </thead>\n",
              "  <tbody>\n",
              "    <tr>\n",
              "      <th>0</th>\n",
              "      <td>gender</td>\n",
              "      <td>car</td>\n",
              "      <td>reality</td>\n",
              "      <td>child_num</td>\n",
              "      <td>income_total</td>\n",
              "      <td>income_type</td>\n",
              "      <td>edu_type</td>\n",
              "      <td>family_type</td>\n",
              "      <td>house_type</td>\n",
              "      <td>DAYS_BIRTH</td>\n",
              "      <td>DAYS_EMPLOYED</td>\n",
              "      <td>work_phone</td>\n",
              "      <td>phone</td>\n",
              "      <td>email</td>\n",
              "      <td>occyp_type</td>\n",
              "      <td>family_size</td>\n",
              "      <td>begin_month</td>\n",
              "      <td>credit</td>\n",
              "    </tr>\n",
              "  </tbody>\n",
              "</table>\n",
              "</div>"
            ],
            "text/plain": [
              "   gender  car  reality  ...  family_size  begin_month  credit\n",
              "0  gender  car  reality  ...  family_size  begin_month  credit\n",
              "\n",
              "[1 rows x 18 columns]"
            ]
          },
          "metadata": {},
          "execution_count": 484
        }
      ]
    },
    {
      "cell_type": "markdown",
      "metadata": {
        "id": "OdqiNBJ1r1gH"
      },
      "source": [
        "# 문제\n",
        "\n",
        "자, 지금까지 알아본 내용은 다음과 같습니다\n",
        "1. FLAG_MOBIL 컬럼, 은 value가 1밖에 없음 -> 결과에 영향이 없음으로 삭제\n",
        "6. **동일한 사람으로 추정되는 데이터 존재 -> 한사람이 여러 카드를 소유**\n",
        "2. occyp_type 컬럼, 은퇴한 분들만 nan 임 -> 'Unknown'로 대체\n",
        "3. DAYS_EMPLOYED 컬럼, 현재 일하지 않은 사람들은 양수 & occyp_type 컬럼에서 nan인 사람들 밖에 없음 -> 즉, 은퇴한 사람만 양수\n",
        "4. 개별 컬럼들은 begin_month, DAYS_EMPLOYED를 제외한 나머지 컬럼은 credit에 크게 관여하지 않음 -> 컬럼간의 파생변수 필요\n",
        "5. family_size가 childe_num보다 작을 수 있음 -> 출가 고려 -> 부양가족수\n"
      ]
    },
    {
      "cell_type": "markdown",
      "metadata": {
        "id": "29CtgvaeLQ86"
      },
      "source": [
        "중복을 제거했을때 데이터 수 는 다음과 같다"
      ]
    },
    {
      "cell_type": "code",
      "metadata": {
        "colab": {
          "base_uri": "https://localhost:8080/"
        },
        "id": "fEHKhu_pJhF7",
        "outputId": "d9fc0a80-f524-4514-baa9-6076cb499af1"
      },
      "source": [
        "print(f\"중복제거 했을 때 데이터 수 : {len(train.drop_duplicates(train.columns[:-2].tolist(), keep='first'))}\")\n",
        "print(f\"본 데이터 수 : {len(train)}\")"
      ],
      "execution_count": 485,
      "outputs": [
        {
          "output_type": "stream",
          "name": "stdout",
          "text": [
            "중복제거 했을 때 데이터 수 : 8305\n",
            "본 데이터 수 : 26457\n"
          ]
        }
      ]
    },
    {
      "cell_type": "code",
      "metadata": {
        "colab": {
          "base_uri": "https://localhost:8080/"
        },
        "id": "VCCg-FkADgKL",
        "outputId": "913a22f2-6ab0-46ac-8255-4ada92b661a5"
      },
      "source": [
        "print(f\"중복제거 했을 때 데이터 수 : {len(test.drop_duplicates(test.columns[:-1].tolist(), keep='first'))}\")\n",
        "print(f\"본 데이터 수 : {len(test)}\")"
      ],
      "execution_count": 486,
      "outputs": [
        {
          "output_type": "stream",
          "name": "stdout",
          "text": [
            "중복제거 했을 때 데이터 수 : 5332\n",
            "본 데이터 수 : 10000\n"
          ]
        }
      ]
    },
    {
      "cell_type": "markdown",
      "metadata": {
        "id": "Gk2DpYY-MWVj"
      },
      "source": [
        "즉, 동일한 사람일 경우에는 begin_month만이 credit에 영향이 있다는 것  \n"
      ]
    },
    {
      "cell_type": "code",
      "metadata": {
        "id": "dTPZaCJ3TPPg"
      },
      "source": [
        "train_copy = train.copy()\n",
        "test_copy = test.copy()"
      ],
      "execution_count": 487,
      "outputs": []
    },
    {
      "cell_type": "code",
      "metadata": {
        "id": "z-Fik5XgQ6a4"
      },
      "source": [
        "def to_str(x):\n",
        "  return \"_\".join(list(map(str,x.tolist())))"
      ],
      "execution_count": 489,
      "outputs": []
    },
    {
      "cell_type": "code",
      "metadata": {
        "id": "YOyPjUMXNmFj"
      },
      "source": [
        "train_copy[\"ID\"] = train_copy.apply(to_str, axis=1)"
      ],
      "execution_count": 490,
      "outputs": []
    },
    {
      "cell_type": "code",
      "metadata": {
        "id": "gGJj44KHRYbK"
      },
      "source": [
        "test_copy[\"ID\"] = test_copy.apply(to_str, axis=1)"
      ],
      "execution_count": 491,
      "outputs": []
    },
    {
      "cell_type": "code",
      "metadata": {
        "id": "QoSNxyf140kP"
      },
      "source": [
        "y = train_copy['credit']"
      ],
      "execution_count": 492,
      "outputs": []
    },
    {
      "cell_type": "code",
      "metadata": {
        "id": "SLQ7YSeAS37Q"
      },
      "source": [
        "X = train_copy.drop('credit', axis=1)"
      ],
      "execution_count": 493,
      "outputs": []
    },
    {
      "cell_type": "code",
      "metadata": {
        "id": "TSLDO3yO7K8n"
      },
      "source": [
        "categorical_feats = X.dtypes[X.dtypes == 'object'].index"
      ],
      "execution_count": 494,
      "outputs": []
    },
    {
      "cell_type": "code",
      "metadata": {
        "id": "jQZbZfPo8EPD"
      },
      "source": [
        "features_index = X.dtypes[X.dtypes != 'object'].index"
      ],
      "execution_count": 495,
      "outputs": []
    },
    {
      "cell_type": "code",
      "metadata": {
        "id": "cxUfZmxp9PZB"
      },
      "source": [
        "#로그변환\n",
        "X[features_index] = np.log1p(X[features_index])\n",
        "test_copy[features_index] = np.log1p(test_copy[features_index])"
      ],
      "execution_count": 500,
      "outputs": []
    },
    {
      "cell_type": "code",
      "metadata": {
        "id": "08iHEOKpKHNE"
      },
      "source": [
        "encoder = OrdinalEncoder(categorical_feats)\n",
        "X[categorical_feats] = encoder.fit_transform(X[categorical_feats], y)\n",
        "test_copy[categorical_feats] = encoder.transform(test_copy[categorical_feats])"
      ],
      "execution_count": 501,
      "outputs": []
    },
    {
      "cell_type": "code",
      "metadata": {
        "id": "Fr_0HMe4bRW4"
      },
      "source": [
        "X[categorical_feats] = X[categorical_feats].astype(int)\n",
        "test_copy[categorical_feats] = test_copy[categorical_feats].astype(int)"
      ],
      "execution_count": 502,
      "outputs": []
    },
    {
      "cell_type": "markdown",
      "metadata": {
        "id": "VeqFx8i08Nla"
      },
      "source": [
        "# 모델링"
      ]
    },
    {
      "cell_type": "code",
      "metadata": {
        "id": "zhXdjmJ_tw3J"
      },
      "source": [
        "!pip install category_encoders"
      ],
      "execution_count": 337,
      "outputs": []
    },
    {
      "cell_type": "code",
      "metadata": {
        "id": "T7cxfWCHt5VW"
      },
      "source": [
        "!pip install catboost"
      ],
      "execution_count": 338,
      "outputs": []
    },
    {
      "cell_type": "code",
      "metadata": {
        "id": "J-uh88qNuWlo"
      },
      "source": [
        "n_est = 2000\n",
        "seed = 42\n",
        "n_fold = 15\n",
        "n_class = 3\n",
        "\n",
        "target = 'credit'\n",
        "X_test = test_copy.copy()"
      ],
      "execution_count": 504,
      "outputs": []
    },
    {
      "cell_type": "code",
      "metadata": {
        "id": "XIZznIXvMT_W"
      },
      "source": [
        "skfold = StratifiedKFold(n_splits=n_fold, shuffle=True, random_state=seed)\n",
        "folds=[]\n",
        "for train_idx, valid_idx in skfold.split(X, y):\n",
        "        folds.append((train_idx, valid_idx))\n",
        "\n",
        "cat_pred = np.zeros((X.shape[0], n_class))\n",
        "cat_pred_test = np.zeros((X_test.shape[0], n_class))\n",
        "cat_cols = ['income_type', 'edu_type', 'family_type', 'house_type', 'occyp_type', 'ID']\n",
        "for fold in range(n_fold):\n",
        "  print(f'\\n----------------- Fold {fold} -----------------\\n')\n",
        "  train_idx, valid_idx = folds[fold]\n",
        "  X_train, X_valid, y_train, y_valid = X.iloc[train_idx], X.iloc[valid_idx], y[train_idx], y[valid_idx]\n",
        "  train_data = Pool(data=X_train, label=y_train, cat_features=cat_cols)\n",
        "  valid_data = Pool(data=X_valid, label=y_valid, cat_features=cat_cols)\n",
        "\n",
        "  model_cat = CatBoostClassifier()\n",
        "  model_cat.fit(train_data, eval_set=valid_data, use_best_model=True, early_stopping_rounds=100, verbose=100)\n",
        "  \n",
        "  cat_pred[valid_idx] = model_cat.predict_proba(X_valid)\n",
        "  cat_pred_test += model_cat.predict_proba(X_test) / n_fold\n",
        "  print(f'CV Log Loss Score: {log_loss(y_valid, cat_pred[valid_idx]):.6f}')\n",
        "    \n",
        "print(f'\\tLog Loss: {log_loss(y, cat_pred):.6f}')"
      ],
      "execution_count": null,
      "outputs": []
    },
    {
      "cell_type": "code",
      "metadata": {
        "id": "ePg6g6b_uNrT",
        "colab": {
          "base_uri": "https://localhost:8080/",
          "height": 513
        },
        "outputId": "353a3485-107d-49c7-bc1a-8ba1d820acbc"
      },
      "source": [
        "def plot_feature_importance(importance,names,model_type):\n",
        "    \n",
        "    feature_importance = np.array(importance)\n",
        "    feature_names = np.array(names)\n",
        "    \n",
        "    data={'feature_names':feature_names,'feature_importance':feature_importance}\n",
        "    fi_df = pd.DataFrame(data)\n",
        "    \n",
        "    fi_df.sort_values(by=['feature_importance'], ascending=False,inplace=True)\n",
        "\n",
        "    fig = plt.figure(figsize=(10,8))\n",
        "    fig.set_facecolor(\"white\")\n",
        "    sns.barplot(x=fi_df['feature_importance'], y=fi_df['feature_names'])\n",
        "\n",
        "    plt.title(model_type + ' Feature Importance')\n",
        "    plt.xlabel('Feature Importance')\n",
        "    plt.ylabel('Feature Names')\n",
        "\n",
        "plot_feature_importance(model_cat.get_feature_importance(),X_test.columns,'CATBOOST')"
      ],
      "execution_count": 506,
      "outputs": [
        {
          "output_type": "display_data",
          "data": {
            "image/png": "[encoded data removed]",
            "text/plain": [
              "<Figure size 720x576 with 1 Axes>"
            ]
          },
          "metadata": {}
        }
      ]
    },
    {
      "cell_type": "code",
      "metadata": {
        "colab": {
          "base_uri": "https://localhost:8080/",
          "height": 450
        },
        "id": "ItxiJTJJIcSs",
        "outputId": "f81e072a-e1eb-4c90-db8d-4d95ea32338b"
      },
      "source": [
        "sub.iloc[:, :] = cat_pred_test\n",
        "sub"
      ],
      "execution_count": 507,
      "outputs": [
        {
          "output_type": "execute_result",
          "data": {
            "text/html": [
              "<div>\n",
              "<style scoped>\n",
              "    .dataframe tbody tr th:only-of-type {\n",
              "        vertical-align: middle;\n",
              "    }\n",
              "\n",
              "    .dataframe tbody tr th {\n",
              "        vertical-align: top;\n",
              "    }\n",
              "\n",
              "    .dataframe thead th {\n",
              "        text-align: right;\n",
              "    }\n",
              "</style>\n",
              "<table border=\"1\" class=\"dataframe\">\n",
              "  <thead>\n",
              "    <tr style=\"text-align: right;\">\n",
              "      <th></th>\n",
              "      <th>0</th>\n",
              "      <th>1</th>\n",
              "      <th>2</th>\n",
              "    </tr>\n",
              "    <tr>\n",
              "      <th>index</th>\n",
              "      <th></th>\n",
              "      <th></th>\n",
              "      <th></th>\n",
              "    </tr>\n",
              "  </thead>\n",
              "  <tbody>\n",
              "    <tr>\n",
              "      <th>26457</th>\n",
              "      <td>0.143012</td>\n",
              "      <td>0.166517</td>\n",
              "      <td>0.690471</td>\n",
              "    </tr>\n",
              "    <tr>\n",
              "      <th>26458</th>\n",
              "      <td>0.167600</td>\n",
              "      <td>0.137744</td>\n",
              "      <td>0.694657</td>\n",
              "    </tr>\n",
              "    <tr>\n",
              "      <th>26459</th>\n",
              "      <td>0.139023</td>\n",
              "      <td>0.161421</td>\n",
              "      <td>0.699557</td>\n",
              "    </tr>\n",
              "    <tr>\n",
              "      <th>26460</th>\n",
              "      <td>0.099370</td>\n",
              "      <td>0.146425</td>\n",
              "      <td>0.754205</td>\n",
              "    </tr>\n",
              "    <tr>\n",
              "      <th>26461</th>\n",
              "      <td>0.119269</td>\n",
              "      <td>0.231810</td>\n",
              "      <td>0.648921</td>\n",
              "    </tr>\n",
              "    <tr>\n",
              "      <th>...</th>\n",
              "      <td>...</td>\n",
              "      <td>...</td>\n",
              "      <td>...</td>\n",
              "    </tr>\n",
              "    <tr>\n",
              "      <th>36452</th>\n",
              "      <td>0.079155</td>\n",
              "      <td>0.168868</td>\n",
              "      <td>0.751977</td>\n",
              "    </tr>\n",
              "    <tr>\n",
              "      <th>36453</th>\n",
              "      <td>0.098039</td>\n",
              "      <td>0.168262</td>\n",
              "      <td>0.733699</td>\n",
              "    </tr>\n",
              "    <tr>\n",
              "      <th>36454</th>\n",
              "      <td>0.037407</td>\n",
              "      <td>0.097519</td>\n",
              "      <td>0.865073</td>\n",
              "    </tr>\n",
              "    <tr>\n",
              "      <th>36455</th>\n",
              "      <td>0.115298</td>\n",
              "      <td>0.101865</td>\n",
              "      <td>0.782837</td>\n",
              "    </tr>\n",
              "    <tr>\n",
              "      <th>36456</th>\n",
              "      <td>0.216782</td>\n",
              "      <td>0.249689</td>\n",
              "      <td>0.533528</td>\n",
              "    </tr>\n",
              "  </tbody>\n",
              "</table>\n",
              "<p>10000 rows × 3 columns</p>\n",
              "</div>"
            ],
            "text/plain": [
              "              0         1         2\n",
              "index                              \n",
              "26457  0.143012  0.166517  0.690471\n",
              "26458  0.167600  0.137744  0.694657\n",
              "26459  0.139023  0.161421  0.699557\n",
              "26460  0.099370  0.146425  0.754205\n",
              "26461  0.119269  0.231810  0.648921\n",
              "...         ...       ...       ...\n",
              "36452  0.079155  0.168868  0.751977\n",
              "36453  0.098039  0.168262  0.733699\n",
              "36454  0.037407  0.097519  0.865073\n",
              "36455  0.115298  0.101865  0.782837\n",
              "36456  0.216782  0.249689  0.533528\n",
              "\n",
              "[10000 rows x 3 columns]"
            ]
          },
          "metadata": {},
          "execution_count": 507
        }
      ]
    },
    {
      "cell_type": "code",
      "metadata": {
        "id": "tdymPoFNocLf"
      },
      "source": [
        "import os\n",
        "path = \"/content/drive/MyDrive/머신러닝_실전예제/Dacon_신용카드연체판별/result/\"\n",
        "file_list = os.listdir(path)\n",
        "file_list_csv = [file for file in file_list if file.endswith(\".csv\")]\n",
        "num = len(file_list_csv) + 1"
      ],
      "execution_count": 508,
      "outputs": []
    },
    {
      "cell_type": "code",
      "metadata": {
        "id": "ZIXo_7M2Iksx"
      },
      "source": [
        "sub.to_csv(\"/content/drive/MyDrive/머신러닝_실전예제/Dacon_신용카드연체판별/result/result\" + str(num) + \".csv\")"
      ],
      "execution_count": 509,
      "outputs": []
    }
  ]
}